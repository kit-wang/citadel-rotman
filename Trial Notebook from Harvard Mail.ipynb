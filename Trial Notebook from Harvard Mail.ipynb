{
 "cells": [
  {
   "cell_type": "code",
   "execution_count": 21,
   "id": "80e3ba4f-0516-41f1-a14d-d0f9f453d0a4",
   "metadata": {},
   "outputs": [
    {
     "data": {
      "text/plain": [
       "<Response [200]>"
      ]
     },
     "execution_count": 21,
     "metadata": {},
     "output_type": "execute_result"
    }
   ],
   "source": [
    "import requests\n",
    "\n",
    "API_KEY = {'X-API-key':'WWUUVY1R'}\n",
    "s = requests.Session()\n",
    "s.headers.update(API_KEY)\n",
    "resp = s.get('http://localhost:10027/v1/case')\n",
    "resp"
   ]
  },
  {
   "cell_type": "code",
   "execution_count": 19,
   "id": "88965c42-440a-4264-90e7-496eb4f3947a",
   "metadata": {},
   "outputs": [
    {
     "data": {
      "text/plain": [
       "100.0"
      ]
     },
     "execution_count": 19,
     "metadata": {},
     "output_type": "execute_result"
    }
   ],
   "source": [
    "r2 = s.get('http://localhost:10027/v1/securities/book',params = {'ticker':'APPL'}).json()\n",
    "r2['bids'][0]\n",
    "r2['bids'][0]['price']\n",
    "r2['bids'][0]['quantity']"
   ]
  },
  {
   "cell_type": "code",
   "execution_count": null,
   "id": "717995d7-7657-45d2-84d9-4d348a09c5fd",
   "metadata": {},
   "outputs": [],
   "source": [
    "def send_order(sym, side, price, size):\n",
    "    resp = s.post('http://localhost:10027/v1/orders',params = {'ticker': sym, 'type': 'LIMIT', 'action': side,\n",
    "                                                                'quantity': size, 'price': price})\n",
    "    if resp.ok:\n",
    "        print('SENT:', side, sym, size, '@', price)\n",
    "        print('Order ID:', resp.json()['order_id'])\n",
    "    else:\n",
    "        print('failed to send order', side, sym, size, '@', price, ':', resp.text)\n",
    "#send_order('APPL', 'BUY', 50.00, 10)\n",
    "def get_tick(session):\n",
    "    resp = session.get('http://localhost:10027/v1/case')\n",
    "    if resp.ok:\n",
    "        case = resp.json()\n",
    "        return case['tick']\n",
    "    raise ApiException('Authorization error. Please check API key.')\n",
    "\n",
    "def ticker_bid_ask(session, ticker):\n",
    "    payload = {'ticker': ticker}\n",
    "    resp = session.get('http://localhost:10027/v1/securities/book', params = payload)\n",
    "    if resp.ok:\n",
    "        book = resp.json()\n",
    "        return book['bids'][0]['price'], book['asks'][0]['price']\n",
    "    raise ApiException('Authorization error. Please check API key.')\n",
    "\n",
    "n = 1\n",
    "while n < 0:\n",
    "    appleba = ticker_bid_ask(s, 'APPL')\n",
    "    if appleba[1] - appleba[0] >= 2:\n",
    "        send_order('APPL', 'BUY', appleba[0] + 1, 10)\n",
    "        send_order('APPL', 'SELL', appleba[1] - 1, 10)\n",
    "    n += 1\n",
    "   # send_order('APPL', 'BUY', 50.00, 10)\n",
    "   # send_order('APPL', 'SELL', 75.00, 10)\n",
    "while False:\n",
    "    send_order('APPL', 'BUY', 50.00, 10)\n",
    "    send_order('APPL', 'SELL', 75.00, 10)\n"
   ]
  },
  {
   "cell_type": "code",
   "execution_count": null,
   "id": "0a7b523b-259a-46ae-9acb-a071ce45bdfc",
   "metadata": {},
   "outputs": [],
   "source": []
  },
  {
   "cell_type": "code",
   "execution_count": null,
   "id": "acc9b2ca-0694-4f19-833d-121d7eb74d98",
   "metadata": {},
   "outputs": [],
   "source": []
  },
  {
   "cell_type": "code",
   "execution_count": null,
   "id": "f3c96ef8-4250-4054-b695-4488b617ba28",
   "metadata": {},
   "outputs": [],
   "source": []
  },
  {
   "cell_type": "code",
   "execution_count": null,
   "id": "9dc6e6e7-ed4a-40f3-8596-07deea5a9385",
   "metadata": {},
   "outputs": [],
   "source": []
  },
  {
   "cell_type": "code",
   "execution_count": null,
   "id": "c2684d9c-d62c-434b-b466-7534b29ba361",
   "metadata": {},
   "outputs": [],
   "source": []
  },
  {
   "cell_type": "code",
   "execution_count": 27,
   "id": "d13c73e8-c511-4455-be90-1ebac0486152",
   "metadata": {},
   "outputs": [
    {
     "data": {
      "text/plain": [
       "[]"
      ]
     },
     "execution_count": 27,
     "metadata": {},
     "output_type": "execute_result"
    }
   ],
   "source": [
    "s.get('http://localhost:10027/v1/orders', params = {'ticker': 'APPL'}).json()"
   ]
  },
  {
   "cell_type": "code",
   "execution_count": null,
   "id": "037b8c08-d379-4543-948e-71e3afec1e6b",
   "metadata": {},
   "outputs": [],
   "source": []
  },
  {
   "cell_type": "code",
   "execution_count": 6,
   "id": "d7296100-1e12-4d7d-9486-8aba1c32e240",
   "metadata": {},
   "outputs": [
    {
     "data": {
      "text/plain": [
       "{'code': 'UNAUTHORIZED', 'message': 'Simulation must be running.'}"
      ]
     },
     "execution_count": 6,
     "metadata": {},
     "output_type": "execute_result"
    }
   ],
   "source": [
    "ID = 223\n",
    "s.delete('http://localhost:10027/v1/orders/' + str(ID)).json()"
   ]
  },
  {
   "cell_type": "code",
   "execution_count": null,
   "id": "1b221ec8-1bec-4a28-8acc-7a1ef4e0ad94",
   "metadata": {},
   "outputs": [],
   "source": [
    "def orange_action():\n",
    "    # if orange ask is below our fair value estimate\n",
    "    # then buy\n",
    "    "
   ]
  }
 ],
 "metadata": {
  "kernelspec": {
   "display_name": "Python 3 (ipykernel)",
   "language": "python",
   "name": "python3"
  },
  "language_info": {
   "codemirror_mode": {
    "name": "ipython",
    "version": 3
   },
   "file_extension": ".py",
   "mimetype": "text/x-python",
   "name": "python",
   "nbconvert_exporter": "python",
   "pygments_lexer": "ipython3",
   "version": "3.11.7"
  }
 },
 "nbformat": 4,
 "nbformat_minor": 5
}
